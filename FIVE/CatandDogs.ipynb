{
 "cells": [
  {
   "cell_type": "code",
   "execution_count": null,
   "id": "8abac84f-2311-4aa6-9600-df49048dbe9d",
   "metadata": {},
   "outputs": [],
   "source": [
    "import numpy as np\n",
    "from tenserflow.keras.models import Sequential\n",
    "from tenserflow.keras.layers import Dense, Conv2,MaxPooling2D,Flatten"
   ]
  },
  {
   "cell_type": "markdown",
   "id": "42bf034a-ddca-405e-8361-f54838460590",
   "metadata": {},
   "source": [
    "LOAD dataset"
   ]
  },
  {
   "cell_type": "code",
   "execution_count": null,
   "id": "4b37acf6-c102-40dc-9d0b-feeb283fd00c",
   "metadata": {},
   "outputs": [],
   "source": [
    "X_train=np.loadtxt('data/input.csv',delimiter=',')\n",
    "Y_train=np.loadtxt('data/labels.csv',delimiter=',')\n",
    "\n",
    "X_test=np.loadtxt('data/input_test.csv',delimiter=',')\n",
    "Y_test=np.loadtxt('data/labels_test.csv',delimiter=',')\n"
   ]
  },
  {
   "cell_type": "code",
   "execution_count": null,
   "id": "85aaf160-e49b-4962-af2b-708df1bcc4c5",
   "metadata": {},
   "outputs": [],
   "source": [
    "X_train=X_train.reshape(len(X_train),100,100,3)\n",
    "Y_train=Y_train.reshape(len(Y_train),1)\n",
    "\n",
    "X_test=X_test.reshape(len(X_test),100,100,3)\n",
    "Y_test=Y_test.reshape(len(Y_test),1)\n",
    "#NORMALIZE\n",
    "X_train=X_train/255.0\n",
    "X_test=X_test/255.0"
   ]
  },
  {
   "cell_type": "markdown",
   "id": "a5769bd6-c124-4795-97e0-275a9748543b",
   "metadata": {},
   "source": [
    "CHECH SHAPES OF DS"
   ]
  },
  {
   "cell_type": "code",
   "execution_count": null,
   "id": "e78ee76c-588f-4954-96f6-71d87731c465",
   "metadata": {},
   "outputs": [],
   "source": [
    "print(\"Shape of Xtrain: \", X_train.shape)\n",
    "print(\"Shape of Ytrain: \", Y_train.shape)\n",
    "print(\"Shape of Xtest: \", X_test.shape)\n",
    "print(\"Shape of Ytest: \", Y_test.shape)"
   ]
  },
  {
   "cell_type": "markdown",
   "id": "3072ec84-b922-4e52-bd7b-a67794ffe502",
   "metadata": {},
   "source": [
    "CHECK IMAGES"
   ]
  },
  {
   "cell_type": "code",
   "execution_count": null,
   "id": "3b8d9286-b473-4ed8-befa-e8a520b155b6",
   "metadata": {},
   "outputs": [],
   "source": [
    "import matplotlib.pyplot as plt\n",
    "idx=random.randint(0,len(X_train))\n",
    "plt.imshow(X_train[idx,:])\n",
    "plt.show()\n"
   ]
  },
  {
   "cell_type": "markdown",
   "id": "79feceb1-4fba-4e94-9f76-91792186021b",
   "metadata": {},
   "source": [
    "MODEL"
   ]
  },
  {
   "cell_type": "code",
   "execution_count": null,
   "id": "9bfa1218-4b6d-44d6-adcd-0b85edd92b3b",
   "metadata": {},
   "outputs": [],
   "source": [
    "model=Sequential([\n",
    "    Conv2D(32,(3,3),activation='relu',input_shape=(100,100,3)),\n",
    "    MaxPooling2D((2,2)),\n",
    "\n",
    "    Conv2D(32,(3,3),activation='relu'),\n",
    "    MaxPooling((2,2)),\n",
    "\n",
    "    Flatten(),\n",
    "    Dense(64,activation='relu')\n",
    "    Dense(1,activation='sigmoid')#binary output either cat or dog\n",
    "])"
   ]
  },
  {
   "cell_type": "code",
   "execution_count": null,
   "id": "16bb0694-5ad9-4c20-bc64-08f104a503ad",
   "metadata": {},
   "outputs": [],
   "source": [
    "model=Sequential(name='Cnn-model')\n",
    "\n",
    "model.add(Conv2D(32,(3,3),activation='relu',input_shape=(100,100,3)))\n",
    "model.add(MaxPooling2D((2,2)))\n",
    "\n",
    "model.add(Conv2D(32,(3,3),activation='relu',input_shape=(100,100,3)))\n",
    "model.add(MaxPooling2D((2,2)))\n",
    "\n",
    "model.add(Flatten())\n",
    "model.add(Dense(64,activation='relu'))\n",
    "model.add(Dense(1,activation='sigmoid'))"
   ]
  },
  {
   "cell_type": "markdown",
   "id": "bf575bdc-a595-4f48-ba60-a619b5945e07",
   "metadata": {},
   "source": [
    "loss functions for backpropagation and givin hyper parameters "
   ]
  },
  {
   "cell_type": "code",
   "execution_count": null,
   "id": "2e33acd7-7038-4c37-84d9-ddc58fc23f23",
   "metadata": {},
   "outputs": [],
   "source": [
    "# opt=keras.optimizers.SGD(learning_rate=0.001)\n",
    "model.compile(loss='binary_crossentrophy',optimizer='adam',metrics=['accuracy'])"
   ]
  },
  {
   "cell_type": "markdown",
   "id": "a9bab82e-b9d0-40f0-9511-34d146dc0a76",
   "metadata": {},
   "source": [
    "TRAIN MODEL"
   ]
  },
  {
   "cell_type": "code",
   "execution_count": null,
   "id": "b9168e3a-6480-4ae6-9084-3333f25dbd3a",
   "metadata": {},
   "outputs": [],
   "source": [
    "model.fit(X_train,Y_train,epochs=10,batch_size=64)"
   ]
  },
  {
   "cell_type": "markdown",
   "id": "325f48ed-f188-46b6-917e-7202a50ee031",
   "metadata": {},
   "source": [
    "MODEL EVALUATE"
   ]
  },
  {
   "cell_type": "code",
   "execution_count": null,
   "id": "90fff0b5-e231-4f3b-9701-82fc4959ccc1",
   "metadata": {},
   "outputs": [],
   "source": [
    "model.evaluate(X_test,Y_test)"
   ]
  },
  {
   "cell_type": "markdown",
   "id": "cd4c61e0-d5fa-44fc-ad03-ef5d2a4beea0",
   "metadata": {},
   "source": [
    "PREDICTION\n"
   ]
  },
  {
   "cell_type": "code",
   "execution_count": null,
   "id": "e6971501-f170-4338-bf24-72c9be8fac65",
   "metadata": {},
   "outputs": [],
   "source": [
    "index2=random.randint(0,len(X_test))\n",
    "plt.imshow(X_test[index2,:])\n",
    "plt.show()\n",
    "y_pred=model.predict(X_test[index2,:].reshape(1,100,100,3))\n",
    "print(f\"Prediction : {y_pred}\")"
   ]
  },
  {
   "cell_type": "code",
   "execution_count": null,
   "id": "6c908f43-24c3-40c8-9053-8c204fbcb3be",
   "metadata": {},
   "outputs": [],
   "source": [
    "y_pred=y_pred>0.5\n",
    "\n",
    "if(y_pred==0):\n",
    "    pred=\"dog\"\n",
    "else:\n",
    "    pred=\"cat\"\n",
    "\n",
    "print(\"Our model say it is a\",pred)"
   ]
  },
  {
   "cell_type": "markdown",
   "id": "cba527f1-5457-4173-a2c3-f095fa6569fa",
   "metadata": {},
   "source": [
    "END"
   ]
  },
  {
   "cell_type": "code",
   "execution_count": null,
   "id": "f096e2f0-ee31-47b9-994c-499f5aeffc66",
   "metadata": {},
   "outputs": [],
   "source": []
  }
 ],
 "metadata": {
  "kernelspec": {
   "display_name": "Python 3 (ipykernel)",
   "language": "python",
   "name": "python3"
  },
  "language_info": {
   "codemirror_mode": {
    "name": "ipython",
    "version": 3
   },
   "file_extension": ".py",
   "mimetype": "text/x-python",
   "name": "python",
   "nbconvert_exporter": "python",
   "pygments_lexer": "ipython3",
   "version": "3.12.1"
  }
 },
 "nbformat": 4,
 "nbformat_minor": 5
}
