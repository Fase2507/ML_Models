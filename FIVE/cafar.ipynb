{
 "cells": [
  {
   "cell_type": "code",
   "execution_count": null,
   "id": "89cc034a-d342-4301-a75b-0ca09e11c0ba",
   "metadata": {},
   "outputs": [],
   "source": [
    "import tensorflow as tf\n",
    "from tensorflow.keras import datasets,layers,models\n",
    "import matplotlib.pyplot as plt\n",
    "import numpy as np"
   ]
  },
  {
   "cell_type": "markdown",
   "id": "afddc081-cde4-449e-94cb-9bb7df888d58",
   "metadata": {},
   "source": [
    "LOAD DATA AND SPLIT"
   ]
  },
  {
   "cell_type": "code",
   "execution_count": null,
   "id": "63fa2264-b1ff-4adc-b218-8ba80bafa80f",
   "metadata": {},
   "outputs": [],
   "source": [
    "(X_train,y_train),(X_test,y_test) = dataset.cifar10.load_data()\n",
    "X_train.shape()\n",
    "X_test.shape()"
   ]
  },
  {
   "cell_type": "markdown",
   "id": "b748263f-9dbc-4d29-95bb-7255f35f67a1",
   "metadata": {},
   "source": [
    "ONE DIMENSINOL ARRAY"
   ]
  },
  {
   "cell_type": "code",
   "execution_count": null,
   "id": "613b0e25-e50f-4266-9b11-a4bfd22b7925",
   "metadata": {},
   "outputs": [],
   "source": [
    "print(y_train.shape())\n",
    "y_train=y_train.reshape(-1,)\n",
    "y_train[:5]"
   ]
  },
  {
   "cell_type": "markdown",
   "id": "f6bf12bc-54b7-433b-aca0-f899784553ac",
   "metadata": {},
   "source": [
    "BASIC PLOT def TO SEE WHAT IMAGE IT IS"
   ]
  },
  {
   "cell_type": "code",
   "execution_count": null,
   "id": "e26baafb-224d-4af3-8ea0-9e2f23cf3f9b",
   "metadata": {},
   "outputs": [],
   "source": [
    "classes=[\"truck\",\"ship\",\"frog\",\"bird\",\"automobile\",\"airplane\",\"cat\",\"deer\",\"dog\",\"horse\"]\n",
    "def plot_sample(X,y,index):\n",
    "    plt.figure(figsize=(15,2))\n",
    "    index=random.randint(len(X_train))\n",
    "    plt.imshow(X[index])\n",
    "    plt.xlabel(classes[y[index]])\n",
    "\n",
    "    \n",
    "plot_sample(X_train,y_train,2)    "
   ]
  },
  {
   "cell_type": "markdown",
   "id": "8468658a-5163-405c-bd8f-5c10ea396b91",
   "metadata": {},
   "source": [
    "NORMALIZE"
   ]
  },
  {
   "cell_type": "code",
   "execution_count": null,
   "id": "15298e5c-dd29-48bf-8bed-808d7ee4ea2b",
   "metadata": {},
   "outputs": [],
   "source": [
    "X_train=X_train/255.0\n",
    "X_test=X_test/255.0"
   ]
  },
  {
   "cell_type": "markdown",
   "id": "bf6d4d8d-4bb9-44cc-8fbb-086e5048a076",
   "metadata": {},
   "source": [
    "MODEL"
   ]
  },
  {
   "cell_type": "code",
   "execution_count": null,
   "id": "2f57f750-dcf0-4ce9-a16e-d8547f1eca63",
   "metadata": {},
   "outputs": [],
   "source": [
    "nn=models.Sequential([\n",
    "    layers.Flatten(input_shape=(32,32,3)),\n",
    "    layers.Dense(3000,activation='relu'),\n",
    "    layers.Dense(1000,activation='relu'),\n",
    "    layers.Dense(1,activation='sigmoid')\n",
    "])\n",
    "\n",
    "nn.compile(\n",
    "    optimizer='adam',#SGD\n",
    "    loss='sparse_categorical_crossentrophy',#binary or category(if your target label is binary and u used oneHOt encoding valid),\n",
    "    metrics=['accuracy']#sparse categorical(your target not binary number it is like 8 3 etc...)\n",
    "   \n",
    ")\n",
    "nn.fit(X_train,y_train,epochs=10,batch_size=64)"
   ]
  },
  {
   "cell_type": "markdown",
   "id": "03cf8694-293e-4adb-a2b4-4bc726da03cb",
   "metadata": {},
   "source": [
    "Evaluation"
   ]
  },
  {
   "cell_type": "code",
   "execution_count": null,
   "id": "7f7b745a-003f-4125-826f-e759c8abe621",
   "metadata": {},
   "outputs": [],
   "source": [
    "loss,acc=model.evaluate(X_test,y_test)\n",
    "print(f\"Loss is {loss}\")\n",
    "print(f\"\\Accuracy is {acc}\")"
   ]
  },
  {
   "cell_type": "markdown",
   "id": "a227cfd7-a981-4082-bbad-cb036d979f47",
   "metadata": {},
   "source": [
    "RE-MODEL BASED ON EVALUATION METRICS"
   ]
  },
  {
   "cell_type": "code",
   "execution_count": null,
   "id": "6e28ba67-9cc4-464c-a840-dad7cea263ac",
   "metadata": {},
   "outputs": [],
   "source": [
    "cnn=models.Sequential([\n",
    "    #cnn\n",
    "    layers.Conv2D(filters=32,kernel_size=(3,3),activation='relu',input_shape=(32,32,3)),\n",
    "    layers.MaxPooling2D((2,2)),#avg pooling\n",
    "\n",
    "    layers.Conv2D(filters=64,kernel_size=(3,3),activation='relu'),\n",
    "    layers.MaxPooling2D((3,3)),\n",
    "    #dense\n",
    "    layers.Flatten(),\n",
    "    layers.Dense(64,activation='relu'),\n",
    "    layers.Dense(1,activation='softmax')\n",
    "])"
   ]
  },
  {
   "cell_type": "markdown",
   "id": "49d88a00-6a09-499f-ad94-f1dfd27bbf02",
   "metadata": {},
   "source": [
    "RE-RUN AND EVALUATION\n"
   ]
  },
  {
   "cell_type": "code",
   "execution_count": null,
   "id": "67ecd30a-8205-4de0-bf7a-4f8fa6114688",
   "metadata": {},
   "outputs": [],
   "source": [
    "cnn.compile(\n",
    "    optimizer='adam',\n",
    "    loss='sparse_categorical_crossentrophy,\n",
    "    metrics=['accuracy']\n",
    ")\n",
    "cnn.fit(X_train,y_train,epochs=10)"
   ]
  },
  {
   "cell_type": "code",
   "execution_count": null,
   "id": "85810592-459b-433e-8549-8d7e1e6f5260",
   "metadata": {},
   "outputs": [],
   "source": [
    "print(y_test[:7])\n",
    "y_test=y_test.reshape(-1,)\n",
    "plot_sample(X_test,y_test,1)"
   ]
  },
  {
   "cell_type": "code",
   "execution_count": null,
   "id": "6dcd20f4-2404-42b3-acb5-42843effbb54",
   "metadata": {},
   "outputs": [],
   "source": [
    "y_pred=cnn.predict(X_test)\n",
    "y_pred[:4]"
   ]
  },
  {
   "cell_type": "code",
   "execution_count": null,
   "id": "1c93741a-9eb2-4bb3-be21-e23fa0879a8a",
   "metadata": {},
   "outputs": [],
   "source": [
    "y_classes=[np.argmax(i) for i in y_pred]#argmax gives index of max\n",
    "y_classes[:4]"
   ]
  },
  {
   "cell_type": "code",
   "execution_count": null,
   "id": "0212dd6a-7e53-468e-ba79-1a9259a4c147",
   "metadata": {},
   "outputs": [],
   "source": [
    "y_test[:4]"
   ]
  },
  {
   "cell_type": "markdown",
   "id": "1246abb5-9b28-43a1-8067-df185a7198ff",
   "metadata": {},
   "source": [
    "CLASSIFICATION REPORT"
   ]
  },
  {
   "cell_type": "code",
   "execution_count": null,
   "id": "e5855e92-b13a-4f82-932e-da9d050231b1",
   "metadata": {},
   "outputs": [],
   "source": [
    "print(\"Classification report: \\n\",classification_report(y_test,y_classes)"
   ]
  }
 ],
 "metadata": {
  "kernelspec": {
   "display_name": "Python 3 (ipykernel)",
   "language": "python",
   "name": "python3"
  },
  "language_info": {
   "codemirror_mode": {
    "name": "ipython",
    "version": 3
   },
   "file_extension": ".py",
   "mimetype": "text/x-python",
   "name": "python",
   "nbconvert_exporter": "python",
   "pygments_lexer": "ipython3",
   "version": "3.12.1"
  }
 },
 "nbformat": 4,
 "nbformat_minor": 5
}
